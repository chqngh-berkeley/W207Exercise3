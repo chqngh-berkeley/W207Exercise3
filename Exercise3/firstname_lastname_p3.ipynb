{
 "cells": [
  {
   "cell_type": "markdown",
   "metadata": {},
   "source": [
    "# Project 3: Poisonous mushrooms"
   ]
  },
  {
   "cell_type": "markdown",
   "metadata": {},
   "source": [
    "In this project, you'll investigate properties of mushrooms. This classic dataset contains over 8000 observations, where each mushroom is described by a variety of features like color, odor, etc., and the target variable is an indicator for whether the mushroom is poisonous. Since all the observations are categorical, I've binarized the feature space. Look at the feature_names below to see all 126 binary names.\n",
    "\n",
    "You'll start by running PCA to reduce the dimensionality from 126 down to 2 so that you can easily visualize the data. In general, PCA is very useful for visualization (though sklearn.manifold.tsne is known to produce better visualizations). Recall that PCA is a linear transformation. The 1st projected dimension is the linear combination of all 126 original features that captures as much of the variance in the data as possible. The 2nd projected dimension is the linear combination of all 126 original features that captures as much of the remaining variance as possible. The idea of dense low dimensional representations is crucial to machine learning!\n",
    "\n",
    "Once you've projected the data to 2 dimensions, you'll experiment with clustering using KMeans and density estimation with Gaussian Mixture Models. Finally, you'll train a classifier by fitting a GMM for the positive class and a GMM for the negative class, and perform inference by comparing the probabilities output by each model.\n",
    "\n",
    "As always, you're welcome to work on the project in groups and discuss ideas on the course wall, but please prepare your own write-up and write your own code."
   ]
  },
  {
   "cell_type": "code",
   "execution_count": 1,
   "metadata": {
    "collapsed": false
   },
   "outputs": [
    {
     "name": "stdout",
     "output_type": "stream",
     "text": [
      "finished loading\n"
     ]
    }
   ],
   "source": [
    "%matplotlib inline\n",
    "\n",
    "import numpy as np\n",
    "import matplotlib.pyplot as plt\n",
    "from sklearn import metrics\n",
    "from sklearn.decomposition import PCA\n",
    "from sklearn.cluster import KMeans\n",
    "from sklearn.mixture import GMM\n",
    "from matplotlib.colors import LogNorm\n",
    "\n",
    "print 'finished loading'"
   ]
  },
  {
   "cell_type": "markdown",
   "metadata": {},
   "source": [
    "Load feature names."
   ]
  },
  {
   "cell_type": "code",
   "execution_count": 11,
   "metadata": {
    "collapsed": false
   },
   "outputs": [
    {
     "name": "stdout",
     "output_type": "stream",
     "text": [
      "Loaded feature names: 126\n",
      "['cap-shape=bell', 'cap-shape=conical', 'cap-shape=convex', 'cap-shape=flat', 'cap-shape=knobbed', 'cap-shape=sunken', 'cap-surface=fibrous', 'cap-surface=grooves', 'cap-surface=scaly', 'cap-surface=smooth', 'cap-color=brown', 'cap-color=buff', 'cap-color=cinnamon', 'cap-color=gray', 'cap-color=green', 'cap-color=pink', 'cap-color=purple', 'cap-color=red', 'cap-color=white', 'cap-color=yellow', 'bruises?=bruises', 'bruises?=no', 'odor=almond', 'odor=anise', 'odor=creosote', 'odor=fishy', 'odor=foul', 'odor=musty', 'odor=none', 'odor=pungent', 'odor=spicy', 'gill-attachment=attached', 'gill-attachment=descending', 'gill-attachment=free', 'gill-attachment=notched', 'gill-spacing=close', 'gill-spacing=crowded', 'gill-spacing=distant', 'gill-size=broad', 'gill-size=narrow', 'gill-color=black', 'gill-color=brown', 'gill-color=buff', 'gill-color=chocolate', 'gill-color=gray', 'gill-color=green', 'gill-color=orange', 'gill-color=pink', 'gill-color=purple', 'gill-color=red', 'gill-color=white', 'gill-color=yellow', 'stalk-shape=enlarging', 'stalk-shape=tapering', 'stalk-root=bulbous', 'stalk-root=club', 'stalk-root=cup', 'stalk-root=equal', 'stalk-root=rhizomorphs', 'stalk-root=rooted', 'stalk-root=missing', 'stalk-surface-above-ring=fibrous', 'stalk-surface-above-ring=scaly', 'stalk-surface-above-ring=silky', 'stalk-surface-above-ring=smooth', 'stalk-surface-below-ring=fibrous', 'stalk-surface-below-ring=scaly', 'stalk-surface-below-ring=silky', 'stalk-surface-below-ring=smooth', 'stalk-color-above-ring=brown', 'stalk-color-above-ring=buff', 'stalk-color-above-ring=cinnamon', 'stalk-color-above-ring=gray', 'stalk-color-above-ring=orange', 'stalk-color-above-ring=pink', 'stalk-color-above-ring=red', 'stalk-color-above-ring=white', 'stalk-color-above-ring=yellow', 'stalk-color-below-ring=brown', 'stalk-color-below-ring=buff', 'stalk-color-below-ring=cinnamon', 'stalk-color-below-ring=gray', 'stalk-color-below-ring=orange', 'stalk-color-below-ring=pink', 'stalk-color-below-ring=red', 'stalk-color-below-ring=white', 'stalk-color-below-ring=yellow', 'veil-type=partial', 'veil-type=universal', 'veil-color=brown', 'veil-color=orange', 'veil-color=white', 'veil-color=yellow', 'ring-number=none', 'ring-number=one', 'ring-number=two', 'ring-type=cobwebby', 'ring-type=evanescent', 'ring-type=flaring', 'ring-type=large', 'ring-type=none', 'ring-type=pendant', 'ring-type=sheathing', 'ring-type=zone', 'spore-print-color=black', 'spore-print-color=brown', 'spore-print-color=buff', 'spore-print-color=chocolate', 'spore-print-color=green', 'spore-print-color=orange', 'spore-print-color=purple', 'spore-print-color=white', 'spore-print-color=yellow', 'population=abundant', 'population=clustered', 'population=numerous', 'population=scattered', 'population=several', 'population=solitary', 'habitat=grasses', 'habitat=leaves', 'habitat=meadows', 'habitat=paths', 'habitat=urban', 'habitat=waste', 'habitat=woods']\n"
     ]
    }
   ],
   "source": [
    "feature_names = []\n",
    "with open('../Data/mushroom.map') as fmap:\n",
    "    for line in fmap:\n",
    "        [index, name, junk] = line.split()\n",
    "        feature_names.append(name)\n",
    "\n",
    "print 'Loaded feature names:', len(feature_names)"
   ]
  },
  {
   "cell_type": "markdown",
   "metadata": {},
   "source": [
    "Load data. The data is sparse in the input file, but there aren't too many features, so we'll use a dense representation, which is supported by all sklearn objects."
   ]
  },
  {
   "cell_type": "code",
   "execution_count": 12,
   "metadata": {
    "collapsed": false
   },
   "outputs": [
    {
     "name": "stdout",
     "output_type": "stream",
     "text": [
      "(7000, 126) (1124, 126)\n",
      "[1 0 0 1 0 0 0 1 0 0]\n"
     ]
    }
   ],
   "source": [
    "X, Y = [], []\n",
    "\n",
    "with open('../Data/mushroom.data') as fdata:\n",
    "    for line in fdata:\n",
    "        items = line.split()\n",
    "        Y.append(int(items.pop(0)))\n",
    "        x = np.zeros(len(feature_names))\n",
    "        for item in items:\n",
    "            feature = int(item.split(':')[0])\n",
    "            x[feature] = 1\n",
    "        X.append(x)\n",
    "\n",
    "# Convert these lists to numpy arrays.\n",
    "X = np.array(X)\n",
    "Y = np.array(Y)\n",
    "\n",
    "# Split into train and test data.\n",
    "train_data, train_labels = X[:7000], Y[:7000]\n",
    "test_data, test_labels = X[7000:], Y[7000:]\n",
    "\n",
    "# Check that the shapes look right.\n",
    "print train_data.shape, test_data.shape"
   ]
  },
  {
   "cell_type": "code",
   "execution_count": null,
   "metadata": {
    "collapsed": true
   },
   "outputs": [],
   "source": []
  },
  {
   "cell_type": "markdown",
   "metadata": {},
   "source": [
    "(1) Run Principal Components Analysis on the data. Show what fraction of the total variance in the training data is explained by the first k principal components, for k in [1, 50]."
   ]
  },
  {
   "cell_type": "code",
   "execution_count": 10,
   "metadata": {
    "collapsed": false
   },
   "outputs": [
    {
     "name": "stdout",
     "output_type": "stream",
     "text": [
      "k= 1\n",
      "[ 0.16404331]\n",
      "k= 2\n",
      "[ 0.16404331  0.13323479]\n",
      "k= 3\n",
      "[ 0.16404331  0.13323479  0.10173457]\n",
      "k= 4\n",
      "[ 0.16404331  0.13323479  0.10173457  0.07063356]\n",
      "k= 5\n",
      "[ 0.16404331  0.13323479  0.10173457  0.07063356  0.03866646]\n",
      "k= 6\n",
      "[ 0.16404331  0.13323479  0.10173457  0.07063356  0.03866645  0.03680803]\n",
      "k= 7\n",
      "[ 0.16404331  0.13323479  0.10173457  0.07063356  0.03866646  0.03680804\n",
      "  0.03128238]\n",
      "k= 8\n",
      "[ 0.16404331  0.13323479  0.10173457  0.07063356  0.03866646  0.03680804\n",
      "  0.03128237  0.02733692]\n",
      "k= 9\n",
      "[ 0.16404331  0.13323479  0.10173457  0.07063356  0.03866646  0.03680804\n",
      "  0.03128238  0.02733731  0.02616486]\n",
      "k= 10\n",
      "[ 0.16404331  0.13323479  0.10173457  0.07063356  0.03866646  0.03680804\n",
      "  0.03128239  0.02733737  0.0261649   0.02230924]\n",
      "k= 11\n",
      "[ 0.16404331  0.13323479  0.10173457  0.07063356  0.03866646  0.03680804\n",
      "  0.03128238  0.02733734  0.02616488  0.02230921  0.02047768]\n",
      "k= 12\n",
      "[ 0.16404331  0.13323479  0.10173457  0.07063356  0.03866646  0.03680804\n",
      "  0.03128239  0.02733735  0.02616489  0.02230928  0.02048139  0.01868235]\n",
      "k= 13\n",
      "[ 0.16404331  0.13323479  0.10173457  0.07063356  0.0386661   0.03680799\n",
      "  0.0312817   0.02733635  0.02616447  0.0222901   0.02047625  0.01866167\n",
      "  0.01730136]\n",
      "k= 14\n",
      "[ 0.16404331  0.13323479  0.10173457  0.07063356  0.03866633  0.03680799\n",
      "  0.03128062  0.02733415  0.02615651  0.02230623  0.02044984  0.01864787\n",
      "  0.01732989  0.01680592]\n",
      "k= 15\n",
      "[ 0.16404331  0.13323479  0.10173457  0.07063356  0.03866644  0.03680799\n",
      "  0.0312817   0.02733717  0.02616372  0.02230867  0.02047323  0.01868067\n",
      "  0.0173423   0.01678683  0.01513838]\n",
      "k= 16\n",
      "[ 0.16404331  0.13323479  0.10173457  0.07063356  0.03866642  0.0368079\n",
      "  0.03128234  0.02733711  0.0261644   0.02230493  0.02048083  0.01868064\n",
      "  0.01734     0.01684088  0.01515851  0.01505011]\n",
      "k= 17\n",
      "[ 0.16404331  0.13323479  0.10173457  0.07063356  0.03866637  0.03680801\n",
      "  0.03128228  0.02733705  0.02616455  0.02230558  0.02047641  0.01868218\n",
      "  0.01732278  0.01683475  0.01515872  0.01499184  0.01420626]\n",
      "k= 18\n",
      "[ 0.16404331  0.13323479  0.10173457  0.07063356  0.03866644  0.03680793\n",
      "  0.03128238  0.02733696  0.02616447  0.02230925  0.0204807   0.01868031\n",
      "  0.01732615  0.01682856  0.01517349  0.01507051  0.01424967  0.01404912]\n",
      "k= 19\n",
      "[ 0.16404331  0.13323479  0.10173457  0.07063356  0.03866645  0.03680803\n",
      "  0.03128216  0.02733729  0.02616476  0.02230907  0.02048042  0.01868212\n",
      "  0.01733401  0.01683855  0.01518221  0.0150803   0.01427633  0.01410239\n",
      "  0.01322608]\n",
      "k= 20\n",
      "[ 0.16404331  0.13323479  0.10173457  0.07063356  0.03866646  0.03680804\n",
      "  0.03128239  0.02733731  0.02616482  0.02230931  0.02048049  0.0186822\n",
      "  0.01734322  0.01683983  0.01518658  0.01508313  0.01428948  0.01409553\n",
      "  0.01321827  0.01144028]\n",
      "k= 21\n",
      "[ 0.16404331  0.13323479  0.10173457  0.07063356  0.03866646  0.03680804\n",
      "  0.03128235  0.02733734  0.02616484  0.02230883  0.02048018  0.01868201\n",
      "  0.01734336  0.01684117  0.01518736  0.01507935  0.01427877  0.01410938\n",
      "  0.01324679  0.01144525  0.01061275]\n",
      "k= 22\n",
      "[ 0.16404331  0.13323479  0.10173457  0.07063356  0.03866646  0.03680804\n",
      "  0.03128238  0.02733734  0.02616468  0.02230916  0.02048127  0.01868226\n",
      "  0.0173421   0.01684102  0.01518619  0.01508542  0.01427865  0.01411453\n",
      "  0.0132326   0.01141883  0.01068611  0.0106279 ]\n",
      "k= 23\n",
      "[ 0.16404331  0.13323479  0.10173457  0.07063356  0.03866646  0.03680804\n",
      "  0.03128238  0.02733734  0.02616484  0.02230938  0.02048075  0.01868253\n",
      "  0.01734393  0.01684231  0.01518696  0.0150829   0.01429028  0.01411806\n",
      "  0.01324458  0.0114574   0.01068284  0.01064684  0.01039258]\n",
      "k= 24\n",
      "[ 0.16404331  0.13323479  0.10173457  0.07063356  0.03866646  0.03680804\n",
      "  0.03128239  0.02733737  0.02616488  0.02230932  0.02048167  0.0186832\n",
      "  0.01734398  0.01684251  0.01518572  0.01508591  0.0142893   0.01411939\n",
      "  0.01324448  0.01146128  0.01069926  0.01064405  0.01037433  0.00990897]\n",
      "k= 25\n",
      "[ 0.16404331  0.13323479  0.10173457  0.07063356  0.03866646  0.03680804\n",
      "  0.03128239  0.02733737  0.0261649   0.02230942  0.02048132  0.01868148\n",
      "  0.01734412  0.01684195  0.01518786  0.01508549  0.01428772  0.01411774\n",
      "  0.01324344  0.01145531  0.01070453  0.01064453  0.01040259  0.00992281\n",
      "  0.00900882]\n",
      "k= 26\n",
      "[ 0.16404331  0.13323479  0.10173457  0.07063356  0.03866646  0.03680804\n",
      "  0.03128239  0.02733737  0.02616489  0.02230936  0.02048172  0.01868325\n",
      "  0.01734375  0.01684339  0.01518772  0.01508587  0.01428895  0.01411931\n",
      "  0.01324717  0.0114629   0.0107084   0.01064892  0.01040473  0.00992389\n",
      "  0.00905794  0.00865582]\n",
      "k= 27\n",
      "[ 0.16404331  0.13323479  0.10173457  0.07063356  0.03866646  0.03680804\n",
      "  0.03128239  0.02733737  0.02616489  0.02230941  0.0204817   0.01868323\n",
      "  0.01734414  0.01684351  0.01518794  0.01508596  0.01429124  0.01411909\n",
      "  0.01324994  0.01146005  0.01070335  0.01065369  0.01040185  0.00992339\n",
      "  0.00906602  0.00865336  0.00793996]\n",
      "k= 28\n",
      "[ 0.16404331  0.13323479  0.10173457  0.07063356  0.03866646  0.03680804\n",
      "  0.03128239  0.02733737  0.0261649   0.02230942  0.0204817   0.01868324\n",
      "  0.0173442   0.01684355  0.01518811  0.01508597  0.01429118  0.01411983\n",
      "  0.01324802  0.01146176  0.01070823  0.01065721  0.01040788  0.00993415\n",
      "  0.00907484  0.00868275  0.00794386  0.00769552]\n",
      "k= 29\n",
      "[ 0.16404331  0.13323479  0.10173457  0.07063356  0.03866646  0.03680804\n",
      "  0.03128239  0.02733737  0.0261649   0.0223094   0.0204817   0.01868329\n",
      "  0.01734417  0.01684356  0.01518814  0.01508601  0.0142913   0.01411989\n",
      "  0.01325026  0.01146313  0.01071019  0.01065612  0.01040738  0.00993253\n",
      "  0.00907874  0.00868939  0.00794074  0.00774839  0.00737109]\n",
      "k= 30\n",
      "[ 0.16404331  0.13323479  0.10173457  0.07063356  0.03866646  0.03680804\n",
      "  0.03128239  0.02733737  0.0261649   0.02230942  0.02048171  0.0186833\n",
      "  0.0173442   0.01684355  0.01518819  0.01508613  0.01429119  0.01412007\n",
      "  0.01325024  0.01146271  0.01070836  0.01065723  0.01040873  0.0099354\n",
      "  0.00907931  0.00868941  0.00795002  0.00774045  0.00736204  0.00699644]\n",
      "k= 31\n",
      "[ 0.16404331  0.13323479  0.10173457  0.07063356  0.03866646  0.03680804\n",
      "  0.03128239  0.02733737  0.0261649   0.02230942  0.02048173  0.0186833\n",
      "  0.01734422  0.01684359  0.01518811  0.01508613  0.01429132  0.0141201\n",
      "  0.0132504   0.01146376  0.01070945  0.01065706  0.01040662  0.00993598\n",
      "  0.00907977  0.0086927   0.00795477  0.00775775  0.00737112  0.00699905\n",
      "  0.00638783]\n",
      "k= 32\n",
      "[ 0.16404331  0.13323479  0.10173457  0.07063356  0.03866646  0.03680804\n",
      "  0.03128239  0.02733737  0.0261649   0.02230942  0.02048173  0.0186833\n",
      "  0.01734417  0.0168436   0.01518818  0.01508616  0.01429126  0.01412005\n",
      "  0.01325008  0.01146365  0.01071011  0.01065711  0.0104092   0.00993554\n",
      "  0.00907791  0.00869228  0.00795474  0.00774799  0.00735804  0.00697933\n",
      "  0.00638256  0.00614351]\n",
      "k= 33\n",
      "[ 0.16404331  0.13323479  0.10173457  0.07063356  0.03866646  0.03680804\n",
      "  0.03128239  0.02733737  0.0261649   0.02230942  0.02048173  0.0186833\n",
      "  0.01734422  0.0168436   0.01518815  0.01508617  0.01429127  0.0141201\n",
      "  0.01325036  0.01146367  0.01071045  0.01065742  0.01040949  0.00993644\n",
      "  0.00907967  0.00869236  0.0079526   0.00775515  0.00736247  0.00699999\n",
      "  0.0064096   0.00613117  0.00567687]\n",
      "k= 34\n",
      "[ 0.16404331  0.13323479  0.10173457  0.07063356  0.03866646  0.03680804\n",
      "  0.03128239  0.02733737  0.0261649   0.02230942  0.02048173  0.01868331\n",
      "  0.01734422  0.01684361  0.01518815  0.01508617  0.01429133  0.01412012\n",
      "  0.01325039  0.01146353  0.01071063  0.01065721  0.01040953  0.00993657\n",
      "  0.00908029  0.00869293  0.00795575  0.00775663  0.00737435  0.00700023\n",
      "  0.00639085  0.00614349  0.00571303  0.00532469]\n",
      "k= 35\n",
      "[ 0.16404331  0.13323479  0.10173457  0.07063356  0.03866646  0.03680804\n",
      "  0.03128239  0.02733737  0.0261649   0.02230943  0.02048173  0.01868331\n",
      "  0.01734421  0.01684359  0.01518814  0.01508616  0.01429133  0.01412006\n",
      "  0.0132504   0.01146372  0.01071032  0.01065736  0.01040961  0.00993666\n",
      "  0.00908068  0.00869231  0.0079481   0.00775566  0.00736766  0.00699806\n",
      "  0.0064059   0.00613154  0.00571596  0.0053339   0.00524154]\n",
      "k= 36\n",
      "[ 0.16404331  0.13323479  0.10173457  0.07063356  0.03866646  0.03680804\n",
      "  0.03128239  0.02733737  0.0261649   0.02230943  0.02048173  0.01868331\n",
      "  0.01734422  0.01684361  0.01518819  0.01508618  0.01429132  0.01412013\n",
      "  0.01325044  0.01146371  0.01071063  0.01065745  0.01040956  0.00993698\n",
      "  0.00908065  0.00869305  0.00795601  0.00775769  0.00737454  0.00700241\n",
      "  0.00641151  0.0061395   0.00571932  0.00532937  0.00525905  0.0050117 ]\n",
      "k= 37\n",
      "[ 0.16404331  0.13323479  0.10173457  0.07063356  0.03866646  0.03680804\n",
      "  0.03128239  0.02733737  0.0261649   0.02230943  0.02048173  0.01868331\n",
      "  0.01734422  0.01684361  0.01518819  0.01508618  0.01429133  0.01412013\n",
      "  0.01325045  0.01146379  0.01071065  0.01065744  0.01040965  0.00993692\n",
      "  0.0090806   0.00869304  0.0079559   0.00775808  0.0073756   0.0070026\n",
      "  0.00641157  0.00614473  0.00572023  0.00533175  0.0052592   0.00502378\n",
      "  0.00498801]\n",
      "k= 38\n",
      "[ 0.16404331  0.13323479  0.10173457  0.07063356  0.03866646  0.03680804\n",
      "  0.03128239  0.02733737  0.0261649   0.02230943  0.02048173  0.01868331\n",
      "  0.01734422  0.01684361  0.01518819  0.01508618  0.01429133  0.01412013\n",
      "  0.01325045  0.01146379  0.01071066  0.01065746  0.01040967  0.00993698\n",
      "  0.0090807   0.00869326  0.00795616  0.00775822  0.00737559  0.00700261\n",
      "  0.00641231  0.00614504  0.00572293  0.00533602  0.00525866  0.00502645\n",
      "  0.00498902  0.00455829]\n",
      "k= 39\n",
      "[ 0.16404331  0.13323479  0.10173457  0.07063356  0.03866646  0.03680804\n",
      "  0.03128239  0.02733737  0.0261649   0.02230943  0.02048173  0.01868331\n",
      "  0.01734422  0.01684361  0.01518819  0.01508618  0.01429133  0.01412013\n",
      "  0.01325045  0.01146379  0.01071066  0.01065747  0.01040967  0.00993698\n",
      "  0.0090807   0.00869325  0.00795615  0.00775824  0.00737569  0.00700274\n",
      "  0.00641198  0.00614513  0.0057233   0.00533579  0.00525855  0.00502635\n",
      "  0.00498975  0.00455827  0.00452759]\n",
      "k= 40\n",
      "[ 0.16404331  0.13323479  0.10173457  0.07063356  0.03866646  0.03680804\n",
      "  0.03128239  0.02733737  0.0261649   0.02230943  0.02048173  0.01868331\n",
      "  0.01734422  0.01684361  0.01518819  0.01508618  0.01429133  0.01412013\n",
      "  0.01325045  0.01146379  0.01071066  0.01065747  0.01040967  0.00993695\n",
      "  0.00908068  0.00869323  0.00795604  0.00775824  0.00737564  0.00700256\n",
      "  0.00641166  0.00614492  0.00572333  0.00533594  0.00525627  0.00502499\n",
      "  0.00497871  0.00455881  0.00452679  0.00439423]\n",
      "k= 41\n",
      "[ 0.16404331  0.13323479  0.10173457  0.07063356  0.03866646  0.03680804\n",
      "  0.03128239  0.02733737  0.0261649   0.02230943  0.02048173  0.01868331\n",
      "  0.01734422  0.01684361  0.01518819  0.01508618  0.01429133  0.01412013\n",
      "  0.01325045  0.01146379  0.01071066  0.01065747  0.01040967  0.00993698\n",
      "  0.0090807   0.00869326  0.00795616  0.00775825  0.00737563  0.00700274\n",
      "  0.0064123   0.00614509  0.00572339  0.00533603  0.00525922  0.00502669\n",
      "  0.00499041  0.00455922  0.00452757  0.00439734  0.00419476]\n",
      "k= 42\n",
      "[ 0.16404331  0.13323479  0.10173457  0.07063356  0.03866646  0.03680804\n",
      "  0.03128239  0.02733737  0.0261649   0.02230943  0.02048173  0.01868331\n",
      "  0.01734422  0.01684361  0.01518819  0.01508618  0.01429134  0.01412013\n",
      "  0.01325045  0.01146379  0.01071066  0.01065747  0.01040967  0.00993698\n",
      "  0.0090807   0.00869326  0.00795617  0.00775824  0.00737569  0.00700276\n",
      "  0.00641233  0.00614512  0.0057234   0.00533623  0.00525933  0.0050267\n",
      "  0.00499034  0.0045588   0.00452772  0.00439755  0.00419484  0.00397636]\n",
      "k= 43\n",
      "[ 0.16404331  0.13323479  0.10173457  0.07063356  0.03866646  0.03680804\n",
      "  0.03128239  0.02733737  0.0261649   0.02230943  0.02048173  0.01868331\n",
      "  0.01734422  0.01684361  0.01518819  0.01508618  0.01429134  0.01412013\n",
      "  0.01325045  0.01146379  0.01071066  0.01065747  0.01040967  0.00993698\n",
      "  0.0090807   0.00869326  0.00795616  0.00775825  0.0073757   0.00700276\n",
      "  0.00641233  0.00614513  0.00572344  0.00533626  0.00525935  0.00502667\n",
      "  0.0049904   0.00455921  0.00452782  0.0043977   0.00419462  0.00397694\n",
      "  0.00369933]\n",
      "k= 44\n",
      "[ 0.16404331  0.13323479  0.10173457  0.07063356  0.03866646  0.03680804\n",
      "  0.03128239  0.02733737  0.0261649   0.02230943  0.02048173  0.01868331\n",
      "  0.01734422  0.01684361  0.01518819  0.01508618  0.01429134  0.01412013\n",
      "  0.01325045  0.01146379  0.01071066  0.01065747  0.01040967  0.00993699\n",
      "  0.0090807   0.00869326  0.00795617  0.00775825  0.0073757   0.00700276\n",
      "  0.00641233  0.00614513  0.00572344  0.00533628  0.00525936  0.00502674\n",
      "  0.00499041  0.00455933  0.00452776  0.00439788  0.0041942   0.00397678\n",
      "  0.00370034  0.00359466]\n",
      "k= 45\n",
      "[ 0.16404331  0.13323479  0.10173457  0.07063356  0.03866646  0.03680804\n",
      "  0.03128239  0.02733737  0.0261649   0.02230943  0.02048173  0.01868331\n",
      "  0.01734422  0.01684361  0.01518819  0.01508618  0.01429134  0.01412013\n",
      "  0.01325045  0.01146379  0.01071066  0.01065747  0.01040967  0.00993699\n",
      "  0.0090807   0.00869326  0.00795617  0.00775825  0.0073757   0.00700276\n",
      "  0.00641233  0.00614513  0.00572345  0.00533629  0.00525936  0.00502674\n",
      "  0.00499042  0.0045594   0.00452783  0.00439787  0.00419487  0.00397702\n",
      "  0.0037004   0.00359525  0.00338121]\n",
      "k= 46\n",
      "[ 0.16404331  0.13323479  0.10173457  0.07063356  0.03866646  0.03680804\n",
      "  0.03128239  0.02733737  0.0261649   0.02230943  0.02048173  0.01868331\n",
      "  0.01734422  0.01684361  0.01518819  0.01508618  0.01429134  0.01412013\n",
      "  0.01325045  0.01146379  0.01071066  0.01065747  0.01040967  0.00993699\n",
      "  0.0090807   0.00869326  0.00795617  0.00775825  0.0073757   0.00700276\n",
      "  0.00641233  0.00614513  0.00572345  0.00533629  0.00525936  0.00502674\n",
      "  0.00499042  0.00455942  0.00452784  0.00439788  0.00419489  0.00397701\n",
      "  0.00370042  0.00359528  0.00338123  0.00298985]\n",
      "k= 47\n",
      "[ 0.16404331  0.13323479  0.10173457  0.07063356  0.03866646  0.03680804\n",
      "  0.03128239  0.02733737  0.0261649   0.02230943  0.02048173  0.01868331\n",
      "  0.01734422  0.01684361  0.01518819  0.01508618  0.01429134  0.01412013\n",
      "  0.01325045  0.01146379  0.01071066  0.01065747  0.01040967  0.00993699\n",
      "  0.0090807   0.00869326  0.00795617  0.00775825  0.0073757   0.00700276\n",
      "  0.00641233  0.00614513  0.00572345  0.00533629  0.00525936  0.00502674\n",
      "  0.00499042  0.00455942  0.00452783  0.00439787  0.00419489  0.00397702\n",
      "  0.00370042  0.00359527  0.0033812   0.00298986  0.00271958]\n",
      "k= 48\n",
      "[ 0.16404331  0.13323479  0.10173457  0.07063356  0.03866646  0.03680804\n",
      "  0.03128239  0.02733737  0.0261649   0.02230943  0.02048173  0.01868331\n",
      "  0.01734422  0.01684361  0.01518819  0.01508618  0.01429134  0.01412013\n",
      "  0.01325045  0.01146379  0.01071066  0.01065747  0.01040967  0.00993699\n",
      "  0.0090807   0.00869326  0.00795617  0.00775825  0.0073757   0.00700276\n",
      "  0.00641233  0.00614513  0.00572345  0.00533629  0.00525936  0.00502674\n",
      "  0.00499042  0.00455942  0.00452784  0.00439788  0.00419489  0.00397702\n",
      "  0.00370042  0.00359528  0.00338123  0.00298985  0.00272027  0.00235701]\n",
      "k= 49\n",
      "[ 0.16404331  0.13323479  0.10173457  0.07063356  0.03866646  0.03680804\n",
      "  0.03128239  0.02733737  0.0261649   0.02230943  0.02048173  0.01868331\n",
      "  0.01734422  0.01684361  0.01518819  0.01508618  0.01429134  0.01412013\n",
      "  0.01325045  0.01146379  0.01071066  0.01065747  0.01040967  0.00993699\n",
      "  0.0090807   0.00869326  0.00795617  0.00775825  0.0073757   0.00700276\n",
      "  0.00641233  0.00614513  0.00572345  0.00533629  0.00525936  0.00502674\n",
      "  0.00499042  0.00455942  0.00452784  0.00439788  0.00419489  0.00397702\n",
      "  0.00370043  0.00359528  0.00338124  0.00298985  0.00272027  0.00235705\n",
      "  0.00221379]\n",
      "k= 50\n",
      "[ 0.16404331  0.13323479  0.10173457  0.07063356  0.03866646  0.03680804\n",
      "  0.03128239  0.02733737  0.0261649   0.02230943  0.02048173  0.01868331\n",
      "  0.01734422  0.01684361  0.01518819  0.01508618  0.01429134  0.01412013\n",
      "  0.01325045  0.01146379  0.01071066  0.01065747  0.01040967  0.00993699\n",
      "  0.0090807   0.00869326  0.00795617  0.00775825  0.0073757   0.00700276\n",
      "  0.00641233  0.00614513  0.00572345  0.00533629  0.00525936  0.00502674\n",
      "  0.00499042  0.00455942  0.00452784  0.00439788  0.00419489  0.00397702\n",
      "  0.00370042  0.00359528  0.00338123  0.00298987  0.0027203   0.00235703\n",
      "  0.00221395  0.00204426]\n"
     ]
    }
   ],
   "source": [
    "def P1():\n",
    "### STUDENT START ###\n",
    "    for k in range(1,51):\n",
    "        pca = PCA(n_components=k)\n",
    "        pca.fit(train_data)\n",
    "        print 'k=',k\n",
    "        print(pca.explained_variance_ratio_)\n",
    "### STUDENT END ###\n",
    "\n",
    "P1()"
   ]
  },
  {
   "cell_type": "markdown",
   "metadata": {},
   "source": [
    "(2) PCA can be very useful for visualizing data. Project the training data down to 2 dimensions and plot it. Show the positive (poisonous) cases in blue and the negative (non-poisonous) in red. Here's a reference for plotting: http://matplotlib.org/users/pyplot_tutorial.html"
   ]
  },
  {
   "cell_type": "code",
   "execution_count": 21,
   "metadata": {
    "collapsed": false
   },
   "outputs": [
    {
     "ename": "IndexError",
     "evalue": "too many indices for array",
     "output_type": "error",
     "traceback": [
      "\u001b[0;31m---------------------------------------------------------------------------\u001b[0m",
      "\u001b[0;31mIndexError\u001b[0m                                Traceback (most recent call last)",
      "\u001b[0;32m<ipython-input-21-6d0c1867d1e3>\u001b[0m in \u001b[0;36m<module>\u001b[0;34m()\u001b[0m\n\u001b[1;32m     15\u001b[0m \u001b[0;34m\u001b[0m\u001b[0m\n\u001b[1;32m     16\u001b[0m \u001b[0;31m### STUDENT END ###\u001b[0m\u001b[0;34m\u001b[0m\u001b[0;34m\u001b[0m\u001b[0m\n\u001b[0;32m---> 17\u001b[0;31m \u001b[0mP2\u001b[0m\u001b[0;34m(\u001b[0m\u001b[0;34m)\u001b[0m\u001b[0;34m\u001b[0m\u001b[0m\n\u001b[0m",
      "\u001b[0;32m<ipython-input-21-6d0c1867d1e3>\u001b[0m in \u001b[0;36mP2\u001b[0;34m()\u001b[0m\n\u001b[1;32m      7\u001b[0m         \u001b[0mpx\u001b[0m \u001b[0;34m=\u001b[0m \u001b[0mX_pca\u001b[0m\u001b[0;34m[\u001b[0m\u001b[0;34m:\u001b[0m\u001b[0;34m,\u001b[0m\u001b[0;36m0\u001b[0m\u001b[0;34m]\u001b[0m\u001b[0;34m\u001b[0m\u001b[0m\n\u001b[1;32m      8\u001b[0m         \u001b[0mpy\u001b[0m \u001b[0;34m=\u001b[0m \u001b[0mX_pca\u001b[0m\u001b[0;34m[\u001b[0m\u001b[0;34m:\u001b[0m\u001b[0;34m,\u001b[0m\u001b[0;36m1\u001b[0m\u001b[0;34m]\u001b[0m\u001b[0;34m\u001b[0m\u001b[0m\n\u001b[0;32m----> 9\u001b[0;31m         \u001b[0mplt\u001b[0m\u001b[0;34m.\u001b[0m\u001b[0mscatter\u001b[0m\u001b[0;34m(\u001b[0m\u001b[0mpx\u001b[0m\u001b[0;34m[\u001b[0m\u001b[0;34m:\u001b[0m\u001b[0;34m,\u001b[0m \u001b[0;36m0\u001b[0m\u001b[0;34m]\u001b[0m\u001b[0;34m,\u001b[0m \u001b[0mpy\u001b[0m\u001b[0;34m[\u001b[0m\u001b[0;34m:\u001b[0m\u001b[0;34m,\u001b[0m\u001b[0;36m1\u001b[0m\u001b[0;34m]\u001b[0m\u001b[0;34m,\u001b[0m \u001b[0mc\u001b[0m \u001b[0;34m=\u001b[0m \u001b[0;34m[\u001b[0m\u001b[0;34m'red'\u001b[0m\u001b[0;34m]\u001b[0m\u001b[0;34m)\u001b[0m\u001b[0;34m\u001b[0m\u001b[0m\n\u001b[0m\u001b[1;32m     10\u001b[0m         \u001b[0mplt\u001b[0m\u001b[0;34m.\u001b[0m\u001b[0mscatter\u001b[0m\u001b[0;34m(\u001b[0m\u001b[0mpx\u001b[0m\u001b[0;34m[\u001b[0m\u001b[0;34m:\u001b[0m\u001b[0;34m,\u001b[0m \u001b[0;36m0\u001b[0m\u001b[0;34m]\u001b[0m\u001b[0;34m,\u001b[0m \u001b[0mpy\u001b[0m\u001b[0;34m[\u001b[0m\u001b[0;34m:\u001b[0m\u001b[0;34m,\u001b[0m\u001b[0;36m1\u001b[0m\u001b[0;34m]\u001b[0m\u001b[0;34m,\u001b[0m \u001b[0mc\u001b[0m \u001b[0;34m=\u001b[0m \u001b[0;34m[\u001b[0m\u001b[0;34m'blue'\u001b[0m\u001b[0;34m]\u001b[0m\u001b[0;34m)\u001b[0m\u001b[0;34m\u001b[0m\u001b[0m\n\u001b[1;32m     11\u001b[0m     \u001b[0mplt\u001b[0m\u001b[0;34m.\u001b[0m\u001b[0mxlabel\u001b[0m\u001b[0;34m(\u001b[0m\u001b[0;34m'First Principal Component'\u001b[0m\u001b[0;34m)\u001b[0m\u001b[0;34m\u001b[0m\u001b[0m\n",
      "\u001b[0;31mIndexError\u001b[0m: too many indices for array"
     ]
    }
   ],
   "source": [
    "def P2():\n",
    "### STUDENT START ###\n",
    "    pca = PCA(n_components = 2)\n",
    "    X_pca = pca.fit_transform(train_data)\n",
    "    colors = ['blue', 'red']\n",
    "    for i in range(len(colors)):\n",
    "        px = X_pca[:,0]\n",
    "        py = X_pca[:,1]\n",
    "        plt.scatter(px[:, 0], py[:,1], c = ['red'])\n",
    "        plt.scatter(px[:, 0], py[:,1], c = ['blue'])\n",
    "    plt.xlabel('First Principal Component')\n",
    "    plt.ylabel('Second Principal Component')\n",
    "    \n",
    "    plt.show()\n",
    "\n",
    "### STUDENT END ###\n",
    "P2()"
   ]
  },
  {
   "cell_type": "code",
   "execution_count": null,
   "metadata": {
    "collapsed": true
   },
   "outputs": [],
   "source": []
  },
  {
   "cell_type": "code",
   "execution_count": null,
   "metadata": {
    "collapsed": true
   },
   "outputs": [],
   "source": []
  },
  {
   "cell_type": "code",
   "execution_count": null,
   "metadata": {
    "collapsed": true
   },
   "outputs": [],
   "source": []
  },
  {
   "cell_type": "code",
   "execution_count": null,
   "metadata": {
    "collapsed": true
   },
   "outputs": [],
   "source": []
  },
  {
   "cell_type": "code",
   "execution_count": null,
   "metadata": {
    "collapsed": true
   },
   "outputs": [],
   "source": []
  },
  {
   "cell_type": "code",
   "execution_count": null,
   "metadata": {
    "collapsed": true
   },
   "outputs": [],
   "source": []
  },
  {
   "cell_type": "code",
   "execution_count": null,
   "metadata": {
    "collapsed": true
   },
   "outputs": [],
   "source": []
  },
  {
   "cell_type": "code",
   "execution_count": null,
   "metadata": {
    "collapsed": true
   },
   "outputs": [],
   "source": []
  },
  {
   "cell_type": "code",
   "execution_count": null,
   "metadata": {
    "collapsed": true
   },
   "outputs": [],
   "source": []
  },
  {
   "cell_type": "markdown",
   "metadata": {},
   "source": [
    "(3) Run KMeans with [1,16] clusters over the 2d projected data. Mark each centroid cluster and plot a circle that goes through the most distant point assigned to each cluster."
   ]
  },
  {
   "cell_type": "code",
   "execution_count": 3,
   "metadata": {
    "collapsed": false
   },
   "outputs": [],
   "source": [
    "#def P3():\n",
    "### STUDENT START ###\n",
    "\n",
    "### STUDENT END ###\n",
    "\n",
    "#P3()"
   ]
  },
  {
   "cell_type": "markdown",
   "metadata": {},
   "source": [
    "(4) Fit a Gaussian Mixture Model for the positive examples in your 2d projected data. Plot the estimated density contours as shown here: http://scikit-learn.org/stable/auto_examples/mixture/plot_gmm_pdf.html#example-mixture-plot-gmm-pdf-py. Vary the number of mixture components from 1-4 and the covariance matrix type ('spherical', 'diag', 'tied', 'full')."
   ]
  },
  {
   "cell_type": "code",
   "execution_count": 4,
   "metadata": {
    "collapsed": false
   },
   "outputs": [],
   "source": [
    "#def P4():\n",
    "### STUDENT START ###\n",
    "\n",
    "### STUDENT END ###\n",
    "\n",
    "#P4()"
   ]
  },
  {
   "cell_type": "markdown",
   "metadata": {},
   "source": [
    "(5) Fit two 4-component full covariance GMMs, one for the positive examples and one for the negative examples in your 2d projected data. Predict the test examples by choosing the label for which the model gives a larger probability (use GMM.score). What is the accuracy?"
   ]
  },
  {
   "cell_type": "code",
   "execution_count": 5,
   "metadata": {
    "collapsed": false
   },
   "outputs": [],
   "source": [
    "#def P5():\n",
    "### STUDENT START ###\n",
    "\n",
    "### STUDENT END ###\n",
    "\n",
    "#P5()"
   ]
  },
  {
   "cell_type": "markdown",
   "metadata": {},
   "source": [
    "(6) Ideally, we'd like a model that gives the best accuracy with the fewest parameters. Run a series of experiments to find the model that gives the best accuracy with no more than 50 parameters. For example, with 3 PCA components and 2-component diagonal covariance GMMs, you'd have:\n",
    "\n",
    "( (3 mean vector + 3 covariance matrix) x 2 components ) x 2 classes = 24 parameters\n",
    "\n",
    "You should vary the number of PCA components, the number of GMM components, and the covariance type."
   ]
  },
  {
   "cell_type": "code",
   "execution_count": 6,
   "metadata": {
    "collapsed": false
   },
   "outputs": [],
   "source": [
    "#def P6():\n",
    "### STUDENT START ###\n",
    "\n",
    "### STUDENT END ###\n",
    "\n",
    "#P6()"
   ]
  },
  {
   "cell_type": "code",
   "execution_count": null,
   "metadata": {
    "collapsed": true
   },
   "outputs": [],
   "source": []
  }
 ],
 "metadata": {
  "anaconda-cloud": {},
  "kernelspec": {
   "display_name": "Python [py2]",
   "language": "python",
   "name": "Python [py2]"
  },
  "language_info": {
   "codemirror_mode": {
    "name": "ipython",
    "version": 2
   },
   "file_extension": ".py",
   "mimetype": "text/x-python",
   "name": "python",
   "nbconvert_exporter": "python",
   "pygments_lexer": "ipython2",
   "version": "2.7.12"
  }
 },
 "nbformat": 4,
 "nbformat_minor": 0
}
